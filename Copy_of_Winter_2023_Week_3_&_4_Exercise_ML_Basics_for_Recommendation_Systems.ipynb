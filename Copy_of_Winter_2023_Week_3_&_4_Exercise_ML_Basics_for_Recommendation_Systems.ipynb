{
  "nbformat": 4,
  "nbformat_minor": 0,
  "metadata": {
    "colab": {
      "provenance": [],
      "include_colab_link": true
    },
    "kernelspec": {
      "name": "python3",
      "display_name": "Python 3"
    },
    "language_info": {
      "name": "python"
    }
  },
  "cells": [
    {
      "cell_type": "markdown",
      "metadata": {
        "id": "view-in-github",
        "colab_type": "text"
      },
      "source": [
        "<a href=\"https://colab.research.google.com/github/NURobotics/ASEE/blob/master/Copy_of_Winter_2023_Week_3_%26_4_Exercise_ML_Basics_for_Recommendation_Systems.ipynb\" target=\"_parent\"><img src=\"https://colab.research.google.com/assets/colab-badge.svg\" alt=\"Open In Colab\"/></a>"
      ]
    },
    {
      "cell_type": "markdown",
      "source": [
        "# Winter 2023 - Week 3 & 4 Exercise: ML Basics for Recommendation Systems\n",
        "\n",
        "> Indented block\n",
        "\n"
      ],
      "metadata": {
        "id": "2xDNPtgNKgWq"
      }
    },
    {
      "cell_type": "markdown",
      "source": [
        "In this week's exercise, you are going to use a Spotify dataset prepared by Julia to practice your skills with fitting. You will also get a little bit of practice with prediction (which we will cover in more depth next week)!"
      ],
      "metadata": {
        "id": "KkpeSFG3KlwZ"
      }
    },
    {
      "cell_type": "code",
      "source": [
        "import pandas as pd"
      ],
      "metadata": {
        "id": "M2r03757qE_k"
      },
      "execution_count": null,
      "outputs": []
    },
    {
      "cell_type": "code",
      "source": [
        "# Link to the Spotify dataset we will be using (publicly available on the RAISO GitHub)\n",
        "# url = \"https://raw.githubusercontent.com/blake-hu/raiso-projects/main/winter23/datasets/spotify_data.csv\"\n",
        "url = \"https://raw.githubusercontent.com/blake-hu/raiso-projects/main/winter23/datasets/spotify_data_new.csv\"\n",
        "\n",
        "# Reading dataset into pandas DataFrame\n",
        "data = pd.read_csv(url)"
      ],
      "metadata": {
        "id": "a5keWdZOqKFy"
      },
      "execution_count": null,
      "outputs": []
    },
    {
      "cell_type": "code",
      "source": [
        "# It's always nice to take a sneak peek to ensure that everything worked properly!\n",
        "data.head()"
      ],
      "metadata": {
        "id": "Hu2VO8gwz4yT",
        "outputId": "ba25639d-5fb8-4e6e-a1ad-5659c3885aca",
        "colab": {
          "base_uri": "https://localhost:8080/",
          "height": 272
        }
      },
      "execution_count": null,
      "outputs": [
        {
          "output_type": "execute_result",
          "data": {
            "text/plain": [
              "   danceability    energy  key  loudness  mode  speechiness  acousticness  \\\n",
              "0         0.885  0.693750   11    -8.813     1       0.0378        0.4270   \n",
              "1         0.716  0.440639    7    -7.355     1       0.1220        0.0703   \n",
              "2         0.712  0.216160   11    -7.689     1       0.0314        0.7520   \n",
              "3         0.833  0.276860    2    -8.795     1       0.4310        0.0102   \n",
              "4         0.588  0.409614   11   -10.793     1       0.0449        0.6560   \n",
              "\n",
              "   instrumentalness  liveness  valence      tempo                      id  \\\n",
              "0          0.000204    0.0759    0.728  78.505719  2jiPHbFX5XM8TjaTfYJ0eo   \n",
              "1          0.000000    0.2240    0.344  50.078381  74tLlkN3rgVzRqQJgPfink   \n",
              "2          0.000000    0.1090    0.317  25.081362  04GpBu5gm14iLJRfmwi4RS   \n",
              "3          0.021900    0.1650    0.281  25.081532  0VgkVdmE4gld66l8iyGjgx   \n",
              "4          0.000000    0.1170    0.233  50.086518  6aByRVbCySiT5oiJqz0QzD   \n",
              "\n",
              "   duration_ms  time_signature  stars  \n",
              "0       313684               4      3  \n",
              "1       386907               4      2  \n",
              "2       283361               4      1  \n",
              "3       204600               4      1  \n",
              "4       290615               4      2  "
            ],
            "text/html": [
              "\n",
              "  <div id=\"df-4f3adb2f-6d4e-4b7c-abaa-e9b27a986bd5\">\n",
              "    <div class=\"colab-df-container\">\n",
              "      <div>\n",
              "<style scoped>\n",
              "    .dataframe tbody tr th:only-of-type {\n",
              "        vertical-align: middle;\n",
              "    }\n",
              "\n",
              "    .dataframe tbody tr th {\n",
              "        vertical-align: top;\n",
              "    }\n",
              "\n",
              "    .dataframe thead th {\n",
              "        text-align: right;\n",
              "    }\n",
              "</style>\n",
              "<table border=\"1\" class=\"dataframe\">\n",
              "  <thead>\n",
              "    <tr style=\"text-align: right;\">\n",
              "      <th></th>\n",
              "      <th>danceability</th>\n",
              "      <th>energy</th>\n",
              "      <th>key</th>\n",
              "      <th>loudness</th>\n",
              "      <th>mode</th>\n",
              "      <th>speechiness</th>\n",
              "      <th>acousticness</th>\n",
              "      <th>instrumentalness</th>\n",
              "      <th>liveness</th>\n",
              "      <th>valence</th>\n",
              "      <th>tempo</th>\n",
              "      <th>id</th>\n",
              "      <th>duration_ms</th>\n",
              "      <th>time_signature</th>\n",
              "      <th>stars</th>\n",
              "    </tr>\n",
              "  </thead>\n",
              "  <tbody>\n",
              "    <tr>\n",
              "      <th>0</th>\n",
              "      <td>0.885</td>\n",
              "      <td>0.693750</td>\n",
              "      <td>11</td>\n",
              "      <td>-8.813</td>\n",
              "      <td>1</td>\n",
              "      <td>0.0378</td>\n",
              "      <td>0.4270</td>\n",
              "      <td>0.000204</td>\n",
              "      <td>0.0759</td>\n",
              "      <td>0.728</td>\n",
              "      <td>78.505719</td>\n",
              "      <td>2jiPHbFX5XM8TjaTfYJ0eo</td>\n",
              "      <td>313684</td>\n",
              "      <td>4</td>\n",
              "      <td>3</td>\n",
              "    </tr>\n",
              "    <tr>\n",
              "      <th>1</th>\n",
              "      <td>0.716</td>\n",
              "      <td>0.440639</td>\n",
              "      <td>7</td>\n",
              "      <td>-7.355</td>\n",
              "      <td>1</td>\n",
              "      <td>0.1220</td>\n",
              "      <td>0.0703</td>\n",
              "      <td>0.000000</td>\n",
              "      <td>0.2240</td>\n",
              "      <td>0.344</td>\n",
              "      <td>50.078381</td>\n",
              "      <td>74tLlkN3rgVzRqQJgPfink</td>\n",
              "      <td>386907</td>\n",
              "      <td>4</td>\n",
              "      <td>2</td>\n",
              "    </tr>\n",
              "    <tr>\n",
              "      <th>2</th>\n",
              "      <td>0.712</td>\n",
              "      <td>0.216160</td>\n",
              "      <td>11</td>\n",
              "      <td>-7.689</td>\n",
              "      <td>1</td>\n",
              "      <td>0.0314</td>\n",
              "      <td>0.7520</td>\n",
              "      <td>0.000000</td>\n",
              "      <td>0.1090</td>\n",
              "      <td>0.317</td>\n",
              "      <td>25.081362</td>\n",
              "      <td>04GpBu5gm14iLJRfmwi4RS</td>\n",
              "      <td>283361</td>\n",
              "      <td>4</td>\n",
              "      <td>1</td>\n",
              "    </tr>\n",
              "    <tr>\n",
              "      <th>3</th>\n",
              "      <td>0.833</td>\n",
              "      <td>0.276860</td>\n",
              "      <td>2</td>\n",
              "      <td>-8.795</td>\n",
              "      <td>1</td>\n",
              "      <td>0.4310</td>\n",
              "      <td>0.0102</td>\n",
              "      <td>0.021900</td>\n",
              "      <td>0.1650</td>\n",
              "      <td>0.281</td>\n",
              "      <td>25.081532</td>\n",
              "      <td>0VgkVdmE4gld66l8iyGjgx</td>\n",
              "      <td>204600</td>\n",
              "      <td>4</td>\n",
              "      <td>1</td>\n",
              "    </tr>\n",
              "    <tr>\n",
              "      <th>4</th>\n",
              "      <td>0.588</td>\n",
              "      <td>0.409614</td>\n",
              "      <td>11</td>\n",
              "      <td>-10.793</td>\n",
              "      <td>1</td>\n",
              "      <td>0.0449</td>\n",
              "      <td>0.6560</td>\n",
              "      <td>0.000000</td>\n",
              "      <td>0.1170</td>\n",
              "      <td>0.233</td>\n",
              "      <td>50.086518</td>\n",
              "      <td>6aByRVbCySiT5oiJqz0QzD</td>\n",
              "      <td>290615</td>\n",
              "      <td>4</td>\n",
              "      <td>2</td>\n",
              "    </tr>\n",
              "  </tbody>\n",
              "</table>\n",
              "</div>\n",
              "      <button class=\"colab-df-convert\" onclick=\"convertToInteractive('df-4f3adb2f-6d4e-4b7c-abaa-e9b27a986bd5')\"\n",
              "              title=\"Convert this dataframe to an interactive table.\"\n",
              "              style=\"display:none;\">\n",
              "        \n",
              "  <svg xmlns=\"http://www.w3.org/2000/svg\" height=\"24px\"viewBox=\"0 0 24 24\"\n",
              "       width=\"24px\">\n",
              "    <path d=\"M0 0h24v24H0V0z\" fill=\"none\"/>\n",
              "    <path d=\"M18.56 5.44l.94 2.06.94-2.06 2.06-.94-2.06-.94-.94-2.06-.94 2.06-2.06.94zm-11 1L8.5 8.5l.94-2.06 2.06-.94-2.06-.94L8.5 2.5l-.94 2.06-2.06.94zm10 10l.94 2.06.94-2.06 2.06-.94-2.06-.94-.94-2.06-.94 2.06-2.06.94z\"/><path d=\"M17.41 7.96l-1.37-1.37c-.4-.4-.92-.59-1.43-.59-.52 0-1.04.2-1.43.59L10.3 9.45l-7.72 7.72c-.78.78-.78 2.05 0 2.83L4 21.41c.39.39.9.59 1.41.59.51 0 1.02-.2 1.41-.59l7.78-7.78 2.81-2.81c.8-.78.8-2.07 0-2.86zM5.41 20L4 18.59l7.72-7.72 1.47 1.35L5.41 20z\"/>\n",
              "  </svg>\n",
              "      </button>\n",
              "      \n",
              "  <style>\n",
              "    .colab-df-container {\n",
              "      display:flex;\n",
              "      flex-wrap:wrap;\n",
              "      gap: 12px;\n",
              "    }\n",
              "\n",
              "    .colab-df-convert {\n",
              "      background-color: #E8F0FE;\n",
              "      border: none;\n",
              "      border-radius: 50%;\n",
              "      cursor: pointer;\n",
              "      display: none;\n",
              "      fill: #1967D2;\n",
              "      height: 32px;\n",
              "      padding: 0 0 0 0;\n",
              "      width: 32px;\n",
              "    }\n",
              "\n",
              "    .colab-df-convert:hover {\n",
              "      background-color: #E2EBFA;\n",
              "      box-shadow: 0px 1px 2px rgba(60, 64, 67, 0.3), 0px 1px 3px 1px rgba(60, 64, 67, 0.15);\n",
              "      fill: #174EA6;\n",
              "    }\n",
              "\n",
              "    [theme=dark] .colab-df-convert {\n",
              "      background-color: #3B4455;\n",
              "      fill: #D2E3FC;\n",
              "    }\n",
              "\n",
              "    [theme=dark] .colab-df-convert:hover {\n",
              "      background-color: #434B5C;\n",
              "      box-shadow: 0px 1px 3px 1px rgba(0, 0, 0, 0.15);\n",
              "      filter: drop-shadow(0px 1px 2px rgba(0, 0, 0, 0.3));\n",
              "      fill: #FFFFFF;\n",
              "    }\n",
              "  </style>\n",
              "\n",
              "      <script>\n",
              "        const buttonEl =\n",
              "          document.querySelector('#df-4f3adb2f-6d4e-4b7c-abaa-e9b27a986bd5 button.colab-df-convert');\n",
              "        buttonEl.style.display =\n",
              "          google.colab.kernel.accessAllowed ? 'block' : 'none';\n",
              "\n",
              "        async function convertToInteractive(key) {\n",
              "          const element = document.querySelector('#df-4f3adb2f-6d4e-4b7c-abaa-e9b27a986bd5');\n",
              "          const dataTable =\n",
              "            await google.colab.kernel.invokeFunction('convertToInteractive',\n",
              "                                                     [key], {});\n",
              "          if (!dataTable) return;\n",
              "\n",
              "          const docLinkHtml = 'Like what you see? Visit the ' +\n",
              "            '<a target=\"_blank\" href=https://colab.research.google.com/notebooks/data_table.ipynb>data table notebook</a>'\n",
              "            + ' to learn more about interactive tables.';\n",
              "          element.innerHTML = '';\n",
              "          dataTable['output_type'] = 'display_data';\n",
              "          await google.colab.output.renderOutput(dataTable, element);\n",
              "          const docLink = document.createElement('div');\n",
              "          docLink.innerHTML = docLinkHtml;\n",
              "          element.appendChild(docLink);\n",
              "        }\n",
              "      </script>\n",
              "    </div>\n",
              "  </div>\n",
              "  "
            ]
          },
          "metadata": {},
          "execution_count": 76
        }
      ]
    },
    {
      "cell_type": "code",
      "source": [
        "# Split data into attributes (X) and labels (y)\n",
        "# Examples of attributes: \"danceability\", \"energy\", \"key\", etc.\n",
        "X = data.drop(['id', 'stars'], axis=1) # Dropping the 'id' column to simplify things (it's not a very relevant metric)\n",
        "y = data['stars']"
      ],
      "metadata": {
        "id": "zNrAMda40Dp_"
      },
      "execution_count": null,
      "outputs": []
    },
    {
      "cell_type": "code",
      "source": [
        "# TODO: Randomly split data into training set and test set using train_test_split().\n",
        "# We will make the test set 20% of the total dataset.\n",
        "from sklearn.model_selection import train_test_split\n",
        "X_train, X_test, y_train, y_test = train_test_split(X, y, test_size=0.20)"
      ],
      "metadata": {
        "id": "3mF6gXPH1PrL"
      },
      "execution_count": null,
      "outputs": []
    },
    {
      "cell_type": "code",
      "source": [
        "# Instantiate a regressor object from the DecisionTreeClassifier class\n",
        "from sklearn.tree import DecisionTreeRegressor\n",
        "regressor = DecisionTreeRegressor()"
      ],
      "metadata": {
        "id": "WB-8bKmK2H6K"
      },
      "execution_count": null,
      "outputs": []
    },
    {
      "cell_type": "code",
      "source": [
        "# TODO: Fit regressor to X and y of training set using the fit() method of the regressor object\n",
        "regressor.fit(X_train, y_train)"
      ],
      "metadata": {
        "id": "-blD6h7I2ivk",
        "colab": {
          "base_uri": "https://localhost:8080/"
        },
        "outputId": "2c9c77c0-cafc-46eb-cfa0-dc351ea9a192"
      },
      "execution_count": null,
      "outputs": [
        {
          "output_type": "execute_result",
          "data": {
            "text/plain": [
              "DecisionTreeRegressor()"
            ]
          },
          "metadata": {},
          "execution_count": 80
        }
      ]
    },
    {
      "cell_type": "code",
      "source": [
        "# Use fitted regressor to predict which songs will be liked from test set X-values (attributes)\n",
        "y_pred = regressor.predict(X_test)"
      ],
      "metadata": {
        "id": "B0Qn3yog6gNM"
      },
      "execution_count": null,
      "outputs": []
    },
    {
      "cell_type": "code",
      "source": [
        "# Convert 0-5 star ratings to liked/not-liked categories. 0-2 are not-liked, 3-5 are liked\n",
        "y_test = y_test.reset_index(drop=True)\n",
        "y_pred_discrete = y_pred.copy()\n",
        "y_test_discrete = y_test.copy()\n",
        "\n",
        "for i in range(len(y_pred)):\n",
        "  if y_pred[i] > 2.5: # liked\n",
        "    y_pred_discrete[i] = 1\n",
        "  else: # not liked\n",
        "    y_pred_discrete[i] = 0\n",
        "\n",
        "for i in range(len(y_test)):\n",
        "  if y_test[i] > 2.5: # liked\n",
        "    y_test_discrete[i] = 1\n",
        "  else: # not liked\n",
        "    y_test_discrete[i] = 0"
      ],
      "metadata": {
        "id": "WIe5VNaPX9yF"
      },
      "execution_count": null,
      "outputs": []
    },
    {
      "cell_type": "code",
      "source": [
        "# Import sk-learn metrics functions and seaborn data visualization package\n",
        "from sklearn.metrics import classification_report, confusion_matrix, mean_squared_error\n",
        "import seaborn"
      ],
      "metadata": {
        "id": "bpbDHzhSxYHl"
      },
      "execution_count": null,
      "outputs": []
    },
    {
      "cell_type": "code",
      "source": [
        "# TODO: Create confusion matrix and classification report for output with discrete categories\n",
        "classification_report_categorical = classification_report(y_test_discrete, y_pred_discrete)\n",
        "confusion_matrix_categorical = confusion_matrix(y_test_discrete, y_pred_discrete)"
      ],
      "metadata": {
        "id": "LZbyLvlOwvW9"
      },
      "execution_count": null,
      "outputs": []
    },
    {
      "cell_type": "code",
      "source": [
        "# TODO: Calculate mean squared error for continuous output\n",
        "mean_sq_err = mean_squared_error(y_test, y_pred)"
      ],
      "metadata": {
        "id": "KmpYOr6Awh6L"
      },
      "execution_count": null,
      "outputs": []
    },
    {
      "cell_type": "code",
      "source": [
        "# Print Classification Metrics\n",
        "print('\\n\\n Classification report: \\n\\n', classification_report_categorical)\n",
        "print('Confusion matrix: \\n\\n', confusion_matrix_categorical, \"\\n\\n\")\n",
        "seaborn.heatmap(confusion_matrix_categorical, annot=True)"
      ],
      "metadata": {
        "colab": {
          "base_uri": "https://localhost:8080/",
          "height": 644
        },
        "id": "UG2lpG3Fwaep",
        "outputId": "ed3df542-4fde-42f6-d6ec-03b461feccb9"
      },
      "execution_count": null,
      "outputs": [
        {
          "output_type": "stream",
          "name": "stdout",
          "text": [
            "\n",
            "\n",
            " Classification report: \n",
            "\n",
            "               precision    recall  f1-score   support\n",
            "\n",
            "           0       1.00      1.00      1.00         7\n",
            "           1       1.00      1.00      1.00         5\n",
            "\n",
            "    accuracy                           1.00        12\n",
            "   macro avg       1.00      1.00      1.00        12\n",
            "weighted avg       1.00      1.00      1.00        12\n",
            "\n",
            "Confusion matrix: \n",
            "\n",
            " [[7 0]\n",
            " [0 5]] \n",
            "\n",
            "\n"
          ]
        },
        {
          "output_type": "execute_result",
          "data": {
            "text/plain": [
              "<matplotlib.axes._subplots.AxesSubplot at 0x7fb58c534df0>"
            ]
          },
          "metadata": {},
          "execution_count": 86
        },
        {
          "output_type": "display_data",
          "data": {
            "text/plain": [
              "<Figure size 432x288 with 2 Axes>"
            ],
            "image/png": "[encoded data removed]"
          },
          "metadata": {
            "needs_background": "light"
          }
        }
      ]
    },
    {
      "cell_type": "code",
      "source": [
        "# Print Regression Metrics\n",
        "print('\\n\\n Mean-squared error: ', round(mean_sq_err, 3))"
      ],
      "metadata": {
        "colab": {
          "base_uri": "https://localhost:8080/"
        },
        "id": "lo7XrJLRwb0P",
        "outputId": "2e5bb30e-0d97-4320-db00-9e5dfee26160"
      },
      "execution_count": null,
      "outputs": [
        {
          "output_type": "stream",
          "name": "stdout",
          "text": [
            "\n",
            "\n",
            " Mean-squared error:  0.0\n"
          ]
        }
      ]
    },
    {
      "cell_type": "code",
      "source": [
        "# Plot tree decision nodes and parameters\n",
        "from sklearn.tree import plot_tree\n",
        "plot_tree(regressor)"
      ],
      "metadata": {
        "colab": {
          "base_uri": "https://localhost:8080/",
          "height": 463
        },
        "id": "3dTIL8s52Mir",
        "outputId": "74f77435-6d38-4360-f5e9-d36ced6c38f9"
      },
      "execution_count": null,
      "outputs": [
        {
          "output_type": "execute_result",
          "data": {
            "text/plain": [
              "[Text(0.5, 0.875, 'X[1] <= 0.544\\nsquared_error = 2.243\\nsamples = 48\\nvalue = 2.583'),\n",
              " Text(0.3, 0.625, 'X[10] <= 37.554\\nsquared_error = 0.603\\nsamples = 22\\nvalue = 1.182'),\n",
              " Text(0.2, 0.375, 'X[10] <= 12.561\\nsquared_error = 0.237\\nsamples = 13\\nvalue = 0.615'),\n",
              " Text(0.1, 0.125, 'squared_error = 0.0\\nsamples = 5\\nvalue = 0.0'),\n",
              " Text(0.3, 0.125, 'squared_error = 0.0\\nsamples = 8\\nvalue = 1.0'),\n",
              " Text(0.4, 0.375, 'squared_error = 0.0\\nsamples = 9\\nvalue = 2.0'),\n",
              " Text(0.7, 0.625, 'X[1] <= 0.75\\nsquared_error = 0.562\\nsamples = 26\\nvalue = 3.769'),\n",
              " Text(0.6, 0.375, 'squared_error = 0.0\\nsamples = 11\\nvalue = 3.0'),\n",
              " Text(0.8, 0.375, 'X[10] <= 112.567\\nsquared_error = 0.222\\nsamples = 15\\nvalue = 4.333'),\n",
              " Text(0.7, 0.125, 'squared_error = 0.0\\nsamples = 10\\nvalue = 4.0'),\n",
              " Text(0.9, 0.125, 'squared_error = 0.0\\nsamples = 5\\nvalue = 5.0')]"
            ]
          },
          "metadata": {},
          "execution_count": 88
        },
        {
          "output_type": "display_data",
          "data": {
            "text/plain": [
              "<Figure size 432x288 with 1 Axes>"
            ],
            "image/png": "[encoded data removed]"
          },
          "metadata": {
            "needs_background": "light"
          }
        }
      ]
    },
    {
      "cell_type": "code",
      "source": [
        "# TODO: Now make your own pandas DataFrame with two rows.\n",
        "# Each row should contain values roughly describing attributes of a song you like.\n",
        "# Include all the attributes we used above except 'id' and 'liked.'\n"
      ],
      "metadata": {
        "id": "O7NwCXq_Ax4P"
      },
      "execution_count": null,
      "outputs": []
    },
    {
      "cell_type": "code",
      "source": [
        "# TODO: Use fitted regressor to predict which of the 2 songs will be liked from X_new.\n",
        "# TODO: Store the result in a variable named y_new, and add that as a new column named \"liked\" in X_new.\n",
        "\n",
        "# When you're done, take a look at your results and think about which song attributes are conducive\n",
        "# to getting likes in our dataset."
      ],
      "metadata": {
        "id": "I9W9cy_tDwEB"
      },
      "execution_count": null,
      "outputs": []
    }
  ]
}